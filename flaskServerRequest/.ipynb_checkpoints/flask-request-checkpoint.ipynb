{
 "cells": [
  {
   "cell_type": "markdown",
   "metadata": {},
   "source": [
    "# INICIE O SERVIDOR DO FLAST E VERIFIQUE A PORTA"
   ]
  },
  {
   "cell_type": "code",
   "execution_count": null,
   "metadata": {},
   "outputs": [],
   "source": [
    "# Rodar esse codigo no seu Terminal\n",
    "export FLASK_APP=flask-server.py\n",
    "flask run -p 5001"
   ]
  },
  {
   "cell_type": "markdown",
   "metadata": {},
   "source": [
    "# FLASK COM JUPYTER RESTful"
   ]
  },
  {
   "cell_type": "code",
   "execution_count": 17,
   "metadata": {},
   "outputs": [],
   "source": [
    "# Importando a requests library & json\n",
    "import requests \n",
    "import json\n",
    "import pandas as pd"
   ]
  },
  {
   "cell_type": "markdown",
   "metadata": {},
   "source": [
    "# INICIAL DO SERVER"
   ]
  },
  {
   "cell_type": "code",
   "execution_count": 18,
   "metadata": {
    "tags": []
   },
   "outputs": [
    {
     "name": "stdout",
     "output_type": "stream",
     "text": [
      "Hello, World!\n"
     ]
    }
   ],
   "source": [
    "url = \"http://127.0.0.1:5001/\"\n",
    "r = requests.get(url = url)\n",
    "print(r.json())"
   ]
  },
  {
   "cell_type": "markdown",
   "metadata": {},
   "source": [
    "# BUSCAR TODOS OS USUARIOS DA \"BASE\""
   ]
  },
  {
   "cell_type": "code",
   "execution_count": 19,
   "metadata": {
    "tags": []
   },
   "outputs": [
    {
     "name": "stdout",
     "output_type": "stream",
     "text": [
      "['Primeiro Nome', 'Segundo Nome', 'Terceiro Nome']\n"
     ]
    }
   ],
   "source": [
    "url = \"http://127.0.0.1:5001/\"\n",
    "action = \"get-users\"\n",
    "r = requests.get(url = (url + action))\n",
    "print(r.json())"
   ]
  },
  {
   "cell_type": "markdown",
   "metadata": {},
   "source": [
    "# ENVIA UM USUARIO PARA REGISTRO"
   ]
  },
  {
   "cell_type": "code",
   "execution_count": 13,
   "metadata": {
    "tags": []
   },
   "outputs": [
    {
     "name": "stdout",
     "output_type": "stream",
     "text": [
      "['Primeiro Nome', 'Segundo Nome', 'Terceiro Nome', 'Insere Nome', 'Insere Nome']\n"
     ]
    }
   ],
   "source": [
    "url = \"http://127.0.0.1:5001/\"\n",
    "action = \"post-user\"\n",
    "postData =  json.loads('{\"nome\":\"Insere\", \"sobrenome\":\"Nome\"}')\n",
    "r = requests.post(url = (url + action), json = postData)\n",
    "print(r.json())"
   ]
  }
 ],
 "metadata": {
  "kernelspec": {
   "display_name": "Python 3",
   "language": "python",
   "name": "python3"
  },
  "language_info": {
   "codemirror_mode": {
    "name": "ipython",
    "version": 3
   },
   "file_extension": ".py",
   "mimetype": "text/x-python",
   "name": "python",
   "nbconvert_exporter": "python",
   "pygments_lexer": "ipython3",
   "version": "3.8.3"
  }
 },
 "nbformat": 4,
 "nbformat_minor": 4
}
